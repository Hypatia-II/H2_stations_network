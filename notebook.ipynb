{
 "cells": [
  {
   "cell_type": "code",
   "execution_count": null,
   "metadata": {},
   "outputs": [],
   "source": [
    "from load_preprocess.functions import Data\n",
    "import pandas as pd\n",
    "import warnings\n",
    "warnings.filterwarnings(\"ignore\")\n"
   ]
  },
  {
   "cell_type": "code",
   "execution_count": null,
   "metadata": {},
   "outputs": [],
   "source": [
    "data = Data(path = 'data/')\n",
    "df = data.create_df()"
   ]
  },
  {
   "cell_type": "code",
   "execution_count": null,
   "metadata": {},
   "outputs": [],
   "source": [
    "df_on = pd.read_excel(r'data/road_go_na_ru3g_spreadsheet.xlsx', sheet_name='Sheet 1', skiprows=8)\n",
    "df_off = pd.read_excel(r'data/road_go_na_rl3g_spreadsheet.xlsx', sheet_name='Sheet 1', skiprows=8)\n",
    "\n",
    "def clean_freight_df(df, on_load=True):\n",
    "    \n",
    "    df = df[['TIME', 'TIME.1', '2021']]\n",
    "    \n",
    "    if on_load:\n",
    "        freight_type = \"number_onload\"\n",
    "    else:\n",
    "        freight_type = \"number_offload\"\n",
    "        \n",
    "    df.rename(columns={\"TIME\": \"geo_code\", \"TIME.1\": \"geo_labels\", \"2021\": freight_type}, inplace=True)\n",
    "    df = df.iloc[1:]\n",
    "    df_clean = df[df.geo_code.str.startswith(\"FR\").fillna(False)]\n",
    "    df_clean.reset_index(inplace=True, drop=True)\n",
    "    \n",
    "    df_clean[freight_type] = df_clean[freight_type].astype('str')\n",
    "    df_clean.loc[~(df_clean[freight_type].str.isdigit()), freight_type] = '0'\n",
    "    df_clean[freight_type] = df_clean[freight_type].astype('int')\n",
    "    \n",
    "    return df_clean\n",
    "\n",
    "def merge_freight(df_on, df_off):\n",
    "    \n",
    "    df_onload_fr = clean_freight_df(df_on, on_load=True)\n",
    "    df_offload_fr = clean_freight_df(df_off, on_load=False)\n",
    "\n",
    "    df_fr = pd.merge(df_onload_fr, df_offload_fr, how='inner', on=['geo_code', 'geo_labels'])\n",
    "    df_fr['total_load'] = df_fr.number_offload + df_fr.number_onload \n",
    "    \n",
    "    df_fr['geo_labels'] = [c[0] for c in df_fr['geo_labels'].str.split(\"(\")]\n",
    "    \n",
    "    return df_fr\n",
    "\n",
    "df_fr = merge_freight(df_on, df_off)\n",
    "\n",
    "df_fr"
   ]
  }
 ],
 "metadata": {
  "kernelspec": {
   "display_name": "Python 3",
   "language": "python",
   "name": "python3"
  },
  "language_info": {
   "codemirror_mode": {
    "name": "ipython",
    "version": 3
   },
   "file_extension": ".py",
   "mimetype": "text/x-python",
   "name": "python",
   "nbconvert_exporter": "python",
   "pygments_lexer": "ipython3",
   "version": "3.9.12"
  },
  "orig_nbformat": 4,
  "vscode": {
   "interpreter": {
    "hash": "aee8b7b246df8f9039afb4144a1f6fd8d2ca17a180786b69acc140d282b71a49"
   }
  }
 },
 "nbformat": 4,
 "nbformat_minor": 2
}
