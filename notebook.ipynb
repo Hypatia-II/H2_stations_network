{
 "cells": [
  {
   "cell_type": "code",
   "execution_count": 10,
   "metadata": {},
   "outputs": [],
   "source": [
    "from load_preprocess.functions import Data\n",
    "import pandas as pd\n",
    "import warnings\n",
    "warnings.filterwarnings(\"ignore\")\n",
    "# import config\n",
    "import json"
   ]
  },
  {
   "attachments": {},
   "cell_type": "markdown",
   "metadata": {},
   "source": [
    "Functions"
   ]
  },
  {
   "cell_type": "code",
   "execution_count": null,
   "metadata": {},
   "outputs": [],
   "source": [
    "def clean_freight_df(df, on_load=True):\n",
    "    \n",
    "    df = df[['TIME', 'TIME.1', '2021']]\n",
    "    \n",
    "    if on_load:\n",
    "        freight_type = \"number_onload\"\n",
    "    else:\n",
    "        freight_type = \"number_offload\"\n",
    "        \n",
    "    df.rename(columns={\"TIME\": \"geo_code\", \"TIME.1\": \"geo_labels\", \"2021\": freight_type}, inplace=True)\n",
    "    df = df.iloc[1:]\n",
    "    df_clean = df[df.geo_code.str.startswith(\"FR\").fillna(False)]\n",
    "    df_clean.reset_index(inplace=True, drop=True)\n",
    "    \n",
    "    df_clean[freight_type] = df_clean[freight_type].astype('str')\n",
    "    df_clean[freight_type] = df_clean[freight_type].str.replace('\\.0*$', '', regex=True)\n",
    "    df_clean.loc[~(df_clean[freight_type].str.isdigit()), freight_type] = '0'\n",
    "    df_clean[freight_type] = df_clean[freight_type].astype('int')\n",
    "    \n",
    "    return df_clean\n",
    "\n",
    "def department_region_map(path, df_fr):\n",
    "    df_dpts_region = pd.read_csv(path)\n",
    "    df_dpts_region.rename(columns={\"dep_name\":\"geo_labels\", \"region_name\":\"new_region_name\", \"old_region_name\": \"region\"}, inplace=True)\n",
    "    df_final = pd.merge(df_fr, df_dpts_region[[\"geo_labels\", \"region\"]], how='left', on=['geo_labels'])\n",
    "    df_final = df_final[~(df_final.geo_labels.str.endswith(\" \"))]\n",
    "    return df_final\n",
    "\n",
    "def merge_freight(path, df_on, df_off):\n",
    "    \n",
    "    df_onload_fr = clean_freight_df(df_on, on_load=True)\n",
    "    df_offload_fr = clean_freight_df(df_off, on_load=False)\n",
    "\n",
    "    df_fr = pd.merge(df_onload_fr, df_offload_fr, how='inner', on=['geo_code', 'geo_labels'])\n",
    "    df_fr['total_load'] = df_fr.number_offload + df_fr.number_onload \n",
    "    \n",
    "    df_fr['geo_labels'] = [c[0] for c in df_fr['geo_labels'].str.split(\"(\")]\n",
    "    df_fr = department_region_map(path, df_fr)\n",
    "    df_fr = df_fr.groupby(\"region\")[\"total_load\"].sum().reset_index()\n",
    "    df_fr[\"full_load\"] = df_fr[\"total_load\"].sum()   \n",
    "    df_fr[\"perc_load\"] = df_fr[\"total_load\"]/df_fr[\"full_load\"]\n",
    "\n",
    "    return df_fr\n",
    "\n",
    "def calculate_number_stations(df):\n",
    "    \n",
    "    df[\"max_length_drive\"] = max_hours_drive*avg_speed_kmh\n",
    "    df[\"length_max\"] = df[\"length_max\"]/1000\n",
    "    df[\"length_mean\"] = df[\"length_mean\"]/1000\n",
    "    df[\"avg_distance_high_aut\"] = df[[\"max_length_drive\", \"length_max\"]].min(axis=1)\n",
    "    df[\"avg_distance_midlow_aut\"] = 0.6*df[\"avg_distance_high_aut\"]#df_new[[\"max_length_drive\", \"length_mean\"]].min(axis=1)\n",
    "    df[\"h2_num_2030\"] = H2_trucks_2030*df[\"perc_load\"]\n",
    "    df[\"R_2030_high_aut\"] = autonomy_high_ms*df[\"h2_num_2030\"]*df[\"avg_distance_high_aut\"]/autonomy_high_km\n",
    "    df[\"R_2030_mid_aut\"] = autonomy_medium_ms*df[\"h2_num_2030\"]*df[\"avg_distance_midlow_aut\"]/autonomy_medium_km\n",
    "    df[\"R_2030_low_aut\"] = autonomy_low_ms*df[\"h2_num_2030\"]*df[\"avg_distance_midlow_aut\"]/autonomy_low_km\n",
    "    df[\"R_2030_total\"] = df[\"R_2030_high_aut\"] + df[\"R_2030_mid_aut\"] + df[\"R_2030_low_aut\"]\n",
    "    df[\"C_2030\"] = open_time/avg_time_fill\n",
    "    df[\"num_stations\"] = df[\"R_2030_total\"] / df[\"C_2030\"]\n",
    "\n",
    "    return df"
   ]
  },
  {
   "cell_type": "code",
   "execution_count": null,
   "metadata": {},
   "outputs": [],
   "source": [
    "# In Config file now:\n",
    "\n",
    "# path_region_dpt_map = 'data/departements-region.csv'\n",
    "# H2_trucks_2030 = 10000\n",
    "# H2_trucks_2040 = 60000\n",
    "# # https://www.eea.europa.eu/data-and-maps/daviz/hdv-market-share-for-vehicle#tab-chart_1\n",
    "# autonomy_high_ms = 0.46\n",
    "# autonomy_medium_ms = 0.26\n",
    "# autonomy_low_ms = 0.28\n",
    "# autonomy_high_km = 1000\n",
    "# autonomy_medium_km = 400\n",
    "# autonomy_low_km = 150\n",
    "# max_hours_drive = 9\n",
    "# avg_speed_kmh = 80\n",
    "# avg_time_fill = 15/60\n",
    "# open_time = 24"
   ]
  },
  {
   "attachments": {},
   "cell_type": "markdown",
   "metadata": {},
   "source": [
    "Execution of Frequencies"
   ]
  },
  {
   "cell_type": "code",
   "execution_count": null,
   "metadata": {},
   "outputs": [],
   "source": [
    "path_conf = \"params/config.json\"\n",
    "conf = json.load(open(path_conf, \"r\"))\n",
    "locals().update(conf)"
   ]
  },
  {
   "cell_type": "code",
   "execution_count": 2,
   "metadata": {},
   "outputs": [
    {
     "name": "stderr",
     "output_type": "stream",
     "text": [
      "100%|██████████| 8/8 [00:47<00:00,  5.97s/it]\n"
     ]
    }
   ],
   "source": [
    "data = Data(path = 'data/')\n",
    "df = data.create_df()\n",
    "\n",
    "df.head()"
   ]
  },
  {
   "cell_type": "code",
   "execution_count": null,
   "metadata": {},
   "outputs": [],
   "source": [
    "df_on = pd.read_excel(path_on_freight, sheet_name='Sheet 1', skiprows=8)\n",
    "df_off = pd.read_excel(path_off_freight, sheet_name='Sheet 1', skiprows=8)\n",
    "\n",
    "df_fr = merge_freight(path_region_dpt_map, df_on, df_off)\n",
    "df_new = pd.merge(df, df_fr[[\"region\", \"perc_load\"]], how=\"left\", on=\"region\")\n",
    "\n",
    "df_new = calculate_number_stations(df_new)\n",
    "\n",
    "display(df_fr.head())\n",
    "\n",
    "df_new.head()"
   ]
  }
 ],
 "metadata": {
  "kernelspec": {
   "display_name": "Python 3",
   "language": "python",
   "name": "python3"
  },
  "language_info": {
   "codemirror_mode": {
    "name": "ipython",
    "version": 3
   },
   "file_extension": ".py",
   "mimetype": "text/x-python",
   "name": "python",
   "nbconvert_exporter": "python",
   "pygments_lexer": "ipython3",
   "version": "3.9.12"
  },
  "orig_nbformat": 4,
  "vscode": {
   "interpreter": {
    "hash": "aee8b7b246df8f9039afb4144a1f6fd8d2ca17a180786b69acc140d282b71a49"
   }
  }
 },
 "nbformat": 4,
 "nbformat_minor": 2
}
