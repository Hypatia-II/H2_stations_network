{
 "cells": [
  {
   "cell_type": "code",
   "execution_count": 1,
   "metadata": {},
   "outputs": [],
   "source": [
    "from load_preprocess.functions import create_df\n"
   ]
  },
  {
   "cell_type": "code",
   "execution_count": 2,
   "metadata": {},
   "outputs": [
    {
     "name": "stderr",
     "output_type": "stream",
     "text": [
      "100%|██████████| 7/7 [00:51<00:00,  7.31s/it]\n"
     ]
    },
    {
     "ename": "KeyError",
     "evalue": "'VSMAP_TOUT'",
     "output_type": "error",
     "traceback": [
      "\u001b[0;31m---------------------------------------------------------------------------\u001b[0m",
      "\u001b[0;31mKeyError\u001b[0m                                  Traceback (most recent call last)",
      "Cell \u001b[0;32mIn[2], line 1\u001b[0m\n\u001b[0;32m----> 1\u001b[0m create_df(path \u001b[39m=\u001b[39;49m \u001b[39m'\u001b[39;49m\u001b[39mdata/\u001b[39;49m\u001b[39m'\u001b[39;49m)\n",
      "File \u001b[0;32m~/Documents/HEC/Classes/Data Sustainability Air Liquide/sust_challenge/load_preprocess/functions.py:59\u001b[0m, in \u001b[0;36mcreate_df\u001b[0;34m(path)\u001b[0m\n\u001b[1;32m     57\u001b[0m data \u001b[39m=\u001b[39m Data()\n\u001b[1;32m     58\u001b[0m shapefiles \u001b[39m=\u001b[39m data\u001b[39m.\u001b[39mget_shapefiles(path)\n\u001b[0;32m---> 59\u001b[0m df \u001b[39m=\u001b[39m data\u001b[39m.\u001b[39;49mcalculate_road_density(shapefiles)\n\u001b[1;32m     61\u001b[0m \u001b[39mreturn\u001b[39;00m df\n",
      "File \u001b[0;32m~/Documents/HEC/Classes/Data Sustainability Air Liquide/sust_challenge/load_preprocess/functions.py:35\u001b[0m, in \u001b[0;36mData.calculate_road_density\u001b[0;34m(shapefiles)\u001b[0m\n\u001b[1;32m     33\u001b[0m \u001b[39m@staticmethod\u001b[39m\n\u001b[1;32m     34\u001b[0m \u001b[39mdef\u001b[39;00m \u001b[39mcalculate_road_density\u001b[39m(shapefiles):\n\u001b[0;32m---> 35\u001b[0m     routes \u001b[39m=\u001b[39m shapefiles[\u001b[39m'\u001b[39;49m\u001b[39mVSMAP_TOUT\u001b[39;49m\u001b[39m'\u001b[39;49m]\n\u001b[1;32m     36\u001b[0m     routes \u001b[39m=\u001b[39m routes[routes\u001b[39m.\u001b[39mlib_rte\u001b[39m.\u001b[39mstr\u001b[39m.\u001b[39mstartswith(\u001b[39m'\u001b[39m\u001b[39mA\u001b[39m\u001b[39m'\u001b[39m)]\n\u001b[1;32m     37\u001b[0m     regions \u001b[39m=\u001b[39m shapefiles[\u001b[39m'\u001b[39m\u001b[39mFRA_adm1\u001b[39m\u001b[39m'\u001b[39m]\n",
      "\u001b[0;31mKeyError\u001b[0m: 'VSMAP_TOUT'"
     ]
    }
   ],
   "source": [
    "create_df(path = 'data/')"
   ]
  }
 ],
 "metadata": {
  "kernelspec": {
   "display_name": "Python 3",
   "language": "python",
   "name": "python3"
  },
  "language_info": {
   "codemirror_mode": {
    "name": "ipython",
    "version": 3
   },
   "file_extension": ".py",
   "mimetype": "text/x-python",
   "name": "python",
   "nbconvert_exporter": "python",
   "pygments_lexer": "ipython3",
   "version": "3.9.12"
  },
  "orig_nbformat": 4,
  "vscode": {
   "interpreter": {
    "hash": "aee8b7b246df8f9039afb4144a1f6fd8d2ca17a180786b69acc140d282b71a49"
   }
  }
 },
 "nbformat": 4,
 "nbformat_minor": 2
}
